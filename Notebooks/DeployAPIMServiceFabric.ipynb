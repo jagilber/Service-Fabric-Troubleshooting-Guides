{
  "cells": [
    {
      "cell_type": "markdown",
      "metadata": {},
      "source": [
        "# Deploy APIM for Service Fabric Managed Cluster\n",
        "This notebook walks through the PowerShell commands to deploy and configure APIM to work with a Service Fabric Managed Cluster."
      ]
    },
    {
      "cell_type": "code",
      "metadata": { "language": "powershell" },
      "source": [
        "# Step 1: Create Resource Group\n",
        "$resourceGroupName = 'TestRG'\n",
        "$location = 'EastUS'\n",
        "New-AzResourceGroup -Name $resourceGroupName -Location $location"
      ]
    },
    {
      "cell_type": "code",
      "metadata": { "language": "powershell" },
      "source": [
        "# Step 2: Create Network Security Group (NSG)\n",
        "$networkSecurityGroupName = 'vnet-apim-nsg'\n",
        "$networkSecurityGroup = New-AzNetworkSecurityGroup -Name $networkSecurityGroupName -ResourceGroupName $resourceGroupName -Location $location"
      ]
    },
    {
      "cell_type": "code",
      "metadata": { "language": "powershell" },
      "source": [
        "# Step 3: Configure NSG rules for APIM\n",
        "Add-AzNetworkSecurityRuleConfig -Name 'AllowManagementEndpoint' -NetworkSecurityGroup $networkSecurityGroup -Description 'Management endpoint for Azure portal and PowerShell' -Access Allow -Protocol Tcp -Direction Inbound -Priority 300 -SourceAddressPrefix ApiManagement -SourcePortRange * -DestinationAddressPrefix VirtualNetwork -DestinationPortRange 3443\n",
        "# Update the NSG\n",
        "Set-AzNetworkSecurityGroup -NetworkSecurityGroup $networkSecurityGroup"
      ]
    },
    {
      "cell_type": "code",
      "metadata": { "language": "powershell" },
      "source": [
        "# Step 4: Create Virtual Network (VNET)\n",
        "$vnet = @{ Name = 'VNet'; ResourceGroupName = $resourceGroupName; Location = $location; AddressPrefix = '10.0.0.0/16' }\n",
        "$virtualNetwork = New-AzVirtualNetwork @vnet"
      ]
    },
    {
      "cell_type": "code",
      "metadata": { "language": "powershell" },
      "source": [
        "# Step 5: Create subnet configurations\n",
        "$sfmcSubnet = @{ Name = 'sfmc'; VirtualNetwork = $virtualNetwork; AddressPrefix = '10.0.0.0/24' }\n",
        "$apimSubnet = @{ Name = 'apim'; VirtualNetwork = $virtualNetwork; AddressPrefix = '10.0.1.0/24'; NetworkSecurityGroup = $networkSecurityGroup }\n",
        "Add-AzVirtualNetworkSubnetConfig @sfmcSubnet\n",
        "Add-AzVirtualNetworkSubnetConfig @apimSubnet"
      ]
    },
    {
      "cell_type": "code",
      "metadata": { "language": "powershell" },
      "source": [
        "# Step 6: Associate the subnet configuration to the virtual network\n",
        "$virtualNetwork | Set-AzVirtualNetwork"
      ]
    },
    {
      "cell_type": "code",
      "metadata": { "language": "powershell" },
      "source": [
        "# Step 7: Gather Service Fabric Managed Cluster requirements\n",
        "# Enumerate SFRP principals\n",
        "$sfrpPrincipals = @(Get-AzADServicePrincipal -DisplayName 'Azure Service Fabric Resource Provider')\n",
        "\n",
        "# Obtain the Subnet Resource Id for SFMC\n",
        "$virtualNetwork = Get-AzVirtualNetwork -Name $vnet.Name -ResourceGroupName $resourceGroupName\n",
        "$sfmcSubnetID = $virtualNetwork.Subnets | Where-Object Name -eq $sfmcSubnet.Name | Select-Object -ExpandProperty Id\n",
        "\n",
        "# Assign Network Contributor role to each SFRP principal\n",
        "foreach($sfrpPrincipal in $sfrpPrincipals) {\n    New-AzRoleAssignment -PrincipalId $sfrpPrincipal.Id -RoleDefinitionName 'Network Contributor' -Scope $sfmcSubnetID\n}"
      ]
    },
    {
      "cell_type": "code",
      "metadata": { "language": "powershell" },
      "source": [
        "# Step 8: Create Public IP Address (for APIM)\n",
        "$domainNameLabel = 'apimip'\n",
        "$ip = @{ Name = 'apimip'; ResourceGroupName = $resourceGroupName; Location = $location; Sku = 'Standard'; AllocationMethod = 'Static'; IpAddressVersion = 'IPv4'; DomainNameLabel = $domainNameLabel }\n",
        "New-AzPublicIpAddress @ip"
      ]
    },
    {
      "cell_type": "code",
      "metadata": { "language": "powershell" },
      "source": [
        "# Step 9: Create API Management Service with external VNET integration\n",
        "$virtualNetwork = Get-AzVirtualNetwork -Name $vnet.Name -ResourceGroupName $resourceGroupName\n",
        "$apimSubnetId = $virtualNetwork.Subnets | Where-Object Name -eq $apimSubnet.Name | Select-Object -ExpandProperty Id\n",
        "$apimNetwork = New-AzApiManagementVirtualNetwork -SubnetResourceId $apimSubnetId\n",
        "$publicIpAddressId = (Get-AzPublicIpAddress -Name $ip.Name -ResourceGroupName $resourceGroupName).Id\n",
        "$apimName = 'myApimCloud'\n",
        "$adminEmail = 'admin@contoso.com'\n",
        "$organization = 'contoso'\n",
        "\n",
        "New-AzApiManagement -ResourceGroupName $resourceGroupName -Location $location -Name $apimName -Organization $organization -AdminEmail $adminEmail -VirtualNetwork $apimNetwork -VpnType 'External' -Sku 'Developer' -PublicIpAddressId $publicIpAddressId"
      ]
    },
    {
      "cell_type": "code",
      "metadata": { "language": "powershell" },
      "source": [
        "# Step 10: Deploy the Service Fabric Managed Cluster\n",
        "$templateFile = \"$pwd\\sfmc-template.json\"\n",
        "$adminPassword = '<enter a password>'\n",
        "$clientCertificateThumbprint = '<enter a thumbprint>'\n",
        "\n",
        "$sfmc = @{ \n    clusterName = 'sfmcapim';\n    clusterSku = 'Standard';\n    adminUserName = 'cloudadmin';\n    adminPassword = $adminPassword;\n    clientCertificateThumbprint = $clientCertificateThumbprint;\n    nodeType1name = 'nodetype1';\n    nodeType1vmSize = 'Standard_D2s_v3';\n    nodeType1vmInstanceCount = 5;\n    nodeType1dataDiskSizeGB = 256;\n    nodeType1vmImagePublisher = 'MicrosoftWindowsServer';\n    nodeType1vmImageOffer = 'WindowsServer';\n    nodeType1vmImageSku = '2022-Datacenter';\n    nodeType1vmImageVersion = 'latest';\n    subnetId = $sfmcSubnetID\n}\n",
        "\n",
        "New-AzResourceGroupDeployment -Name 'sfmcDeployment' -ResourceGroupName $resourceGroupName -TemplateFile $templateFile -TemplateParameterObject $sfmc"
      ]
    },
    {
      "cell_type": "code",
      "metadata": { "language": "powershell" },
      "source": [
        "# Step 12: Create a system-assigned managed identity for APIM\n",
        "$apimService = Get-AzApiManagement -ResourceGroupName $resourceGroupName -Name $apimName\n",
        "Set-AzApiManagement -InputObject $apimService -SystemAssignedIdentity"
      ]
    },
    {
      "cell_type": "code",
      "metadata": { "language": "powershell" },
      "source": [
        "# Step 13: Configure new Key vault Access policy using managed identity\n",
        "$keyVaultName = 'apimKV'\n",
        "$managedIdentityId = (Get-AzADServicePrincipal -SearchString $apimName).Id\n",
        "Set-AzKeyVaultAccessPolicy -VaultName $keyVaultName -ObjectId $managedIdentityId  -PermissionsToSecrets get,list"
      ]
    },
    {
      "cell_type": "code",
      "metadata": { "language": "powershell" },
      "source": [
        "# Step 14: Create an Azure Key Vault certificate in APIM\n",
        "$kvcertId = 'apimcloud-com'\n",
        "$secretIdentifier = 'https://apimKV.vault.azure.net/secrets/apimcloud-com/xxxxxxxxxxxxxxxxxxxxxxxxxxxxxxxx'\n",
        "$apiMgmtContext = New-AzApiManagementContext -ResourceGroupName $resourceGroupName -ServiceName $apimName\n",
        "\n",
        "$keyvault = New-AzApiManagementKeyVaultObject -SecretIdentifier $secretIdentifier\n",
        "$keyVaultCertificate = New-AzApiManagementCertificate -Context $apiMgmtContext -CertificateId $kvcertId -KeyVault $keyvault"
      ]
    },
    {
      "cell_type": "code",
      "metadata": { "language": "powershell" },
      "source": [
        "# Step 15: Create a Service Fabric backend in APIM using the certificate\n",
        "$serviceFabricAppUrl = 'fabric:/sfWeatherApiCore/WeatherApi'\n",
        "$clusterName = 'sfmcapim'\n",
        "$clusterResource = Get-AzResource -Name $clusterName -ResourceType 'Microsoft.ServiceFabric/managedclusters'\n",
        "$cluster = Get-AzServiceFabricManagedCluster -Name $clusterName -ResourceGroupName $clusterResource.ResourceGroupName\n",
        "$serverCertThumbprint = $clusterResource.Properties.clusterCertificateThumbprints\n",
        "$x509CertName = $cluster.ClusterId.Replace('-', '')\n",
        "\n",
        "$backend = @{ \n    apimName = $apimName;\n    backendName = 'ServiceFabricBackend';\n    description = 'Service Fabric backend';\n    clientCertificateThumbprint = $keyVaultCertificate.Thumbprint;\n    managementEndpoints = @(\"https://$($cluster.Fqdn):$($cluster.HttpGatewayConnectionPort)\");\n    maxPartitionResolutionRetries = 5;\n    serviceFabricManagedClusterFqdn = $cluster.Fqdn;\n    protocol = 'http';\n    url = $serviceFabricAppUrl;\n    validateCertificateChain = $false;\n    validateCertificateName = $false\n}\n",
        "\n",
        "$backend | ConvertTo-Json | Write-Output\n",
        "\n",
        "New-AzResourceGroupDeployment -Name 'apimBackendDeployment' -ResourceGroupName $resourceGroupName -TemplateFile \"$pwd\\apim-backend.json\" -TemplateParameterObject $backend"
      ]
    },
    {
      "cell_type": "code",
      "metadata": { "language": "powershell" },
      "source": [
        "# Step 16: Create an API in APIM\n",
        "$apiId = 'service-fabric-weatherforecast-app'\n",
        "$apiName = 'Service Fabric WeatherForecast App'\n",
        "$serviceUrl = 'http://servicefabric'\n",
        "New-AzApiManagementApi -Context $apiMgmtContext -ApiId $apiId -Name $apiName -ServiceUrl $serviceUrl -Protocols @('http', 'https') -Path 'api'"
      ]
    },
    {
      "cell_type": "code",
      "metadata": { "language": "powershell" },
      "source": [
        "# Step 17: Create an Operation for the API\n",
        "$operationId = 'service-fabric-weatherforecast-app-operation'\n",
        "$operationName = 'Service Fabric WeatherForecast App Operation'\n",
        "New-AzApiManagementOperation -Context $apiMgmtContext -ApiId $apiId -OperationId $operationId -Name $operationName -Method 'GET' -UrlTemplate '' -Description ''"
      ]
    },
    {
      "cell_type": "code",
      "metadata": { "language": "powershell" },
      "source": [
        "# Step 18: Create a Policy for the API\n",
        "$sfResolveCondition = '@((int)context.Response.StatusCode != 200)'\n",
        "$policyString = \"\n<policies>\n    <inbound>\n        <base />\n        <set-backend-service backend-id=`\"ServiceFabricBackend`\" sf-resolve-condition=`\"$sfResolveCondition`\" sf-service-instance-name=`\"$serviceFabricAppUrl`\" />\n    </inbound>\n    <backend>\n        <base />\n    </backend>\n    <outbound>\n        <base />\n    </outbound>\n    <on-error>\n        <base />\n    </on-error>\n</policies>\"\n",
        "\n",
        "Set-AzApiManagementPolicy -Context $apiMgmtContext -ApiId $apiId -Policy $policyString -Format 'application/vnd.ms-azure-apim.policy.raw+xml'"
      ]
    }
  ],
  "metadata": {
    "kernelspec": {
      "display_name": "PowerShell",
      "language": "PowerShell",
      "name": "pwsh"
    },
    "language_info": {
      "name": "PowerShell"
    }
  },
  "nbformat": 4,
  "nbformat_minor": 2
}
